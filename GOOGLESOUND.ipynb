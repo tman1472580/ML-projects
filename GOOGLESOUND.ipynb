{
  "nbformat": 4,
  "nbformat_minor": 0,
  "metadata": {
    "colab": {
      "provenance": [],
      "authorship_tag": "ABX9TyOh0D2XFy03OKyJhyiRhjEr",
      "include_colab_link": true
    },
    "kernelspec": {
      "name": "python3",
      "display_name": "Python 3"
    },
    "language_info": {
      "name": "python"
    }
  },
  "cells": [
    {
      "cell_type": "markdown",
      "metadata": {
        "id": "view-in-github",
        "colab_type": "text"
      },
      "source": [
        "<a href=\"https://colab.research.google.com/github/tman1472580/ML-projects/blob/main/GOOGLESOUND.ipynb\" target=\"_parent\"><img src=\"https://colab.research.google.com/assets/colab-badge.svg\" alt=\"Open In Colab\"/></a>"
      ]
    },
    {
      "cell_type": "code",
      "execution_count": 1,
      "metadata": {
        "id": "SJInddQtN8aM"
      },
      "outputs": [],
      "source": [
        "!pip install librosa -q"
      ]
    },
    {
      "cell_type": "code",
      "source": [
        "import tensorflow as tf\n",
        "import tensorflow_hub as hub\n",
        "import numpy as np\n",
        "import pandas as pd\n",
        "import librosa\n",
        "from google.colab import files"
      ],
      "metadata": {
        "id": "qAiZqcPWRwG_"
      },
      "execution_count": null,
      "outputs": []
    },
    {
      "cell_type": "code",
      "source": [
        "yamnet_model_handle = 'https://tfhub.dev/google/yamnet/1'\n",
        "yamnet_model = hub.load(yamnet_model_handle)\n"
      ],
      "metadata": {
        "id": "jXtFy3-IR0ul"
      },
      "execution_count": null,
      "outputs": []
    },
    {
      "cell_type": "code",
      "source": [
        "class_names = pd.read_csv(class_map_path)['display_name'].tolist()\n",
        "print(f\"\\nSuccessfully loaded model with {len(class_names)} classes.\")\n"
      ],
      "metadata": {
        "id": "oQMW7VcySlgU"
      },
      "execution_count": null,
      "outputs": []
    },
    {
      "cell_type": "code",
      "source": [],
      "metadata": {
        "id": "ObmzsvP6R_N4"
      },
      "execution_count": null,
      "outputs": []
    }
  ]
}